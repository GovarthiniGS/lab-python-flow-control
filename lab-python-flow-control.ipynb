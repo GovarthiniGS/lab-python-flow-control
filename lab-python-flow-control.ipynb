{
 "cells": [
  {
   "cell_type": "markdown",
   "id": "d3bfc191-8885-42ee-b0a0-bbab867c6f9f",
   "metadata": {
    "tags": []
   },
   "source": [
    "# Lab | Flow Control"
   ]
  },
  {
   "cell_type": "markdown",
   "id": "1063d666",
   "metadata": {},
   "source": [
    "## Exercise: Managing Customer Orders Optimized\n",
    "\n",
    "In the last lab, you were starting an online store that sells various products. To ensure smooth operations, you developed a program that manages customer orders and inventory.\n",
    "\n",
    "You did so without using flow control. Let's go a step further and improve this code.\n",
    "\n",
    "Follow the steps below to complete the exercise:\n",
    "\n",
    "1. Look at your code from the lab data structures, and improve repeated code with loops.\n",
    "\n",
    "2. Instead of asking the user to input the name of three products that a customer wants to order, do the following:\n",
    "    \n",
    "    a. Prompt the user to enter the name of a product that a customer wants to order.\n",
    "    \n",
    "    b. Add the product name to the \"customer_orders\" set.\n",
    "    \n",
    "    c. Ask the user if they want to add another product (yes/no).\n",
    "    \n",
    "    d. Continue the loop until the user does not want to add another product.\n",
    "\n",
    "3. Instead of updating the inventory by subtracting 1 from the quantity of each product, only do it for  the products that were ordered (those in \"customer_orders\")."
   ]
  },
  {
   "cell_type": "code",
   "execution_count": 1,
   "id": "4f2795c9",
   "metadata": {},
   "outputs": [
    {
     "name": "stdout",
     "output_type": "stream",
     "text": [
      "List of products: ['t-shirt', 'mug', 'hat', 'book', 'keychain']\n",
      "Empty inventory: {}\n",
      "Enter the quantity of t-shirt: 6\n",
      "Enter the quantity of mug: 56\n",
      "Enter the quantity of hat: 44\n",
      "Enter the quantity of book: 34\n",
      "Enter the quantity of keychain: 34\n",
      "Inventory: {'t-shirt': 6, 'mug': 56, 'hat': 44, 'book': 34, 'keychain': 34}\n",
      "Empty set of customer orders: set()\n",
      "Choose three products out of the following: t-shirt, mug, hat, book, keychain\n",
      "Enter the name of product 1: t-shirt\n",
      "Enter the name of product 2: mug\n",
      "Enter the name of product 3: hat\n",
      "\n",
      "Products in customer orders:\n",
      "hat\n",
      "t-shirt\n",
      "mug\n",
      "Order Statistics:\n",
      "Total Products Ordered: 3\n",
      "Percentage of Products Ordered: 60.00%\n",
      "\n",
      "Updated Inventory:\n",
      "t-shirt: 5\n",
      "mug: 55\n",
      "hat: 43\n",
      "book: 34\n",
      "keychain: 34\n"
     ]
    }
   ],
   "source": [
    "# 1.\n",
    "# Define the list of products\n",
    "products = [\"t-shirt\", \"mug\", \"hat\", \"book\", \"keychain\"]\n",
    "\n",
    "# Print the list of products\n",
    "print(\"List of products:\", products)\n",
    "\n",
    "# Create an empty dictionary called inventory\n",
    "inventory = {}\n",
    "\n",
    "# Print the empty dictionary\n",
    "print(\"Empty inventory:\", inventory)\n",
    "\n",
    "# Ask the user to input the quantity of each product\n",
    "for product in products:\n",
    "    quantity = int(input(f\"Enter the quantity of {product}: \"))\n",
    "    inventory[product] = quantity\n",
    "\n",
    "# Print the inventory dictionary\n",
    "print(\"Inventory:\", inventory)\n",
    "\n",
    "# Create an empty set called customer_orders\n",
    "customer_orders = set()\n",
    "\n",
    "# Print the empty set\n",
    "print(\"Empty set of customer orders:\", customer_orders)\n",
    "\n",
    "# Ask the user to input the name of three products\n",
    "print(\"Choose three products out of the following:\", \", \".join(products))\n",
    "for i in range(3):\n",
    "    while True:\n",
    "        product_name = input(f\"Enter the name of product {i+1}: \").strip().lower()\n",
    "        if product_name in products:\n",
    "            customer_orders.add(product_name)\n",
    "            break\n",
    "        else:\n",
    "            print(\"Invalid product name. Please choose from the following:\", products)\n",
    "\n",
    "# Print the products in the customer_orders set\n",
    "print(\"\\nProducts in customer orders:\")\n",
    "for product in customer_orders:\n",
    "    print(product)\n",
    "\n",
    "# Calculate order statistics\n",
    "total_products_ordered = len(customer_orders)\n",
    "percentage_products_ordered = (total_products_ordered / len(products)) * 100\n",
    "\n",
    "# Store order statistics in a tuple\n",
    "order_status = (total_products_ordered, percentage_products_ordered)\n",
    "\n",
    "# Print order statistics\n",
    "print(\"Order Statistics:\")\n",
    "print(\"Total Products Ordered:\", total_products_ordered)\n",
    "print(\"Percentage of Products Ordered: {:.2f}%\".format(percentage_products_ordered))\n",
    "\n",
    "# Update the inventory by subtracting 1 from the quantity of each product\n",
    "for product in customer_orders:\n",
    "    inventory[product] -= 1\n",
    "\n",
    "# Print the updated inventory, displaying the quantity of each product on separate lines\n",
    "print(\"\\nUpdated Inventory:\")\n",
    "for product, quantity in inventory.items():\n",
    "    print(f\"{product}: {quantity}\")\n"
   ]
  },
  {
   "cell_type": "code",
   "execution_count": 3,
   "id": "d8344555",
   "metadata": {},
   "outputs": [
    {
     "name": "stdout",
     "output_type": "stream",
     "text": [
      "Enter the name of a product that the customer wants to order: hat\n",
      "Do you want to add another product? (yes/no): yes\n",
      "Enter the name of a product that the customer wants to order: mug\n",
      "Do you want to add another product? (yes/no): no\n"
     ]
    }
   ],
   "source": [
    "# 2.\n",
    "# Prompt the user to enter the name of a product and add it to the customer_orders set\n",
    "while True:\n",
    "    product_name = input(\"Enter the name of a product that the customer wants to order: \").strip().lower()\n",
    "    if product_name in products:\n",
    "        customer_orders.add(product_name)\n",
    "    else:\n",
    "        print(\"Invalid product name. Please choose from the following:\", products)\n",
    "    \n",
    "    # Ask the user if they want to add another product\n",
    "    another_product = input(\"Do you want to add another product? (yes/no): \").strip().lower()\n",
    "    if another_product != 'yes':\n",
    "        break"
   ]
  },
  {
   "cell_type": "code",
   "execution_count": 5,
   "id": "900400dd",
   "metadata": {},
   "outputs": [],
   "source": [
    "# 3.\n",
    "# Update the inventory by subtracting 1 from the quantity of each ordered product\n",
    "for product in customer_orders:\n",
    "    inventory[product] -= 1\n"
   ]
  },
  {
   "cell_type": "code",
   "execution_count": 6,
   "id": "ff257630",
   "metadata": {},
   "outputs": [
    {
     "name": "stdout",
     "output_type": "stream",
     "text": [
      "\n",
      "Updated Inventory:\n",
      "t-shirt: 3\n",
      "mug: 53\n",
      "hat: 41\n",
      "book: 34\n",
      "keychain: 32\n"
     ]
    }
   ],
   "source": [
    "# Print the updated inventory, displaying the quantity of each product on separate lines\n",
    "print(\"\\nUpdated Inventory:\")\n",
    "for product, quantity in inventory.items():\n",
    "    print(f\"{product}: {quantity}\")"
   ]
  }
 ],
 "metadata": {
  "kernelspec": {
   "display_name": "Python 3 (ipykernel)",
   "language": "python",
   "name": "python3"
  },
  "language_info": {
   "codemirror_mode": {
    "name": "ipython",
    "version": 3
   },
   "file_extension": ".py",
   "mimetype": "text/x-python",
   "name": "python",
   "nbconvert_exporter": "python",
   "pygments_lexer": "ipython3",
   "version": "3.11.7"
  }
 },
 "nbformat": 4,
 "nbformat_minor": 5
}
